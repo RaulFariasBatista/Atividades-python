{
 "cells": [
  {
   "cell_type": "markdown",
   "metadata": {
    "id": "SEE0vQsW83yB"
   },
   "source": [
    "### 01 - Teste de gravidez\n",
    "Escreva uma célula com controle de fluxos que tem como premissa a existência das seguintes variáveis:\n",
    "\n",
    "- ```sexo``` como ```str``` indicando os valores '**M**' para masculino e '**F**' para feminino  \n",
    "- ```beta_hcg``` que indica a quantidade do beta-HCG no sangue em mUI/mL.\n",
    "\n",
    "A sua tarefa é escrever um código que imprima como resultado \"indivíduo do sexo masculino\" quando sexo = 'M', caso sexo = 'F', se o valor de beta-HCG for maior que 5, retorne \"Positivo\" indicando que a paciente está grávida, e retorne \"Negativo\" caso contrário.\n",
    "\n",
    "Não mexa nos valores da variável ```sexo``` nem em ```beta_hcg```, e escreva um código que funcione para quaisquer valores possíveis de ambos: ```sexo``` = '**M**' ou '**F**' e ```beta_hcg``` assumindo valores inteiros positivos."
   ]
  },
  {
   "cell_type": "code",
   "execution_count": 37,
   "metadata": {
    "id": "cTOc4LG683yE"
   },
   "outputs": [
    {
     "name": "stdout",
     "output_type": "stream",
     "text": [
      "Indivíduo feminino\n",
      "Positivo\n"
     ]
    }
   ],
   "source": [
    "sexo = 'F'\n",
    "beta_hcg = 6\n",
    "\n",
    "if sexo.upper() == 'M':\n",
    "    print('Indivíduo masculino')\n",
    "elif sexo.upper() == 'F':\n",
    "    print('Indivíduo feminino')\n",
    "else:\n",
    "    print('Favor, insira um valor válido \"m\" ou \"f\"')\n",
    "\n",
    "if sexo.upper() == 'F':\n",
    "    if beta_hcg >= 0 and isinstance(beta_hcg, int):\n",
    "        if 0 <= beta_hcg < 5:\n",
    "            print('Negativo')\n",
    "        else:\n",
    "            print('Positivo')\n",
    "    else:\n",
    "        print('Favor insira um valor positivo inteiro válido para o beta_hcg')\n",
    "\n",
    "\n",
    "\n"
   ]
  },
  {
   "cell_type": "markdown",
   "metadata": {
    "id": "uCoIZDE383yF"
   },
   "source": [
    "### 02 - Renomeando variáveis\n",
    "\n",
    "Vamos ver adiante que uma forma de renomear variáveis de um conjunto de dados é através de dicionários - o dicionário deve conter como chave o nome original, associando a cada chave um único valor (tipo *str*) que contenha o nome novo.\n",
    "\n",
    "A sua tarefa é escrever um dicionário que possa ser utilizado para traduzir as variáveis ```name``` (nome), ```age``` (idade) e ```income``` (renda). Ou seja, esse dicionário deve relacionar as chaves *name, age* e *income* às suas respectivas traduções."
   ]
  },
  {
   "cell_type": "code",
   "execution_count": 46,
   "metadata": {
    "id": "Bh6ijpbu83yG",
    "outputId": "58fbd8da-ed1d-4e05-df85-041c821948f2"
   },
   "outputs": [
    {
     "data": {
      "text/plain": [
       "{'name': 'nome', 'age': 'idade', 'income': 'renda'}"
      ]
     },
     "execution_count": 46,
     "metadata": {},
     "output_type": "execute_result"
    }
   ],
   "source": [
    "dic_renomeacao = {'name': 'nome', \n",
    "                  'age':'idade',\n",
    "                  'income':'renda'\n",
    "                 }\n",
    "dic_renomeacao"
   ]
  },
  {
   "cell_type": "markdown",
   "metadata": {
    "id": "95zumO5g83yH"
   },
   "source": [
    "### 03 - É divisível?\n",
    "A sua tarefa é escrever um código que indique se um número ```N``` é divisível por um número P. Escreva um programa que faça essa verificação para quaisquer combinações de ```N``` e ```M``` e devolva uma mensagem indicativa no output."
   ]
  },
  {
   "cell_type": "code",
   "execution_count": 51,
   "metadata": {
    "id": "BR2zOhmN83yI"
   },
   "outputs": [
    {
     "name": "stdout",
     "output_type": "stream",
     "text": [
      "42 é divisível por 7.\n"
     ]
    }
   ],
   "source": [
    "N = 42\n",
    "M = 7\n",
    "\n",
    "if N % M == 0:\n",
    "    print(f\"{N} é divisível por {M}.\")\n",
    "else:\n",
    "    print(f\"{N} não é divisível por {M}.\")\n",
    "\n",
    "\n"
   ]
  },
  {
   "cell_type": "markdown",
   "metadata": {
    "id": "0d5Kdrz283yJ"
   },
   "source": [
    "### 04 - Números primos\n",
    "> Um número **N** é primo se e somente se é divisível por 1, -1, por **N** e por -**N**.  \n",
    "\n",
    "Escreva um script que verifica se ```N``` é um número primo, verificando se ```N``` é divisível por todos os números de ```1``` a ```N-1```. Você vai precisar usar alguma ferramenta de *loop* que você aprendeu para isto. No final, devolva uma mensagem no output indicando se o número é primo ou não."
   ]
  },
  {
   "cell_type": "code",
   "execution_count": 91,
   "metadata": {
    "id": "h_lFO-EO83yJ"
   },
   "outputs": [
    {
     "name": "stdout",
     "output_type": "stream",
     "text": [
      "\u001b[m 1 \u001b[31m 2 \u001b[31m 3 \u001b[31m 4 \u001b[31m 5 \u001b[31m 6 \u001b[31m 7 \u001b[31m 8 \u001b[31m 9 \u001b[31m 10 \u001b[31m 11 \u001b[31m 12 \u001b[31m 13 \u001b[31m 14 \u001b[31m 15 \u001b[31m 16 \u001b[31m 17 \u001b[31m 18 \u001b[31m 19 \u001b[31m 20 \u001b[31m 21 \u001b[31m 22 \u001b[31m 23 \u001b[31m 24 \u001b[31m 25 \u001b[31m 26 \u001b[31m 27 \u001b[31m 28 \u001b[31m 29 \u001b[31m 30 \u001b[31m 31 \u001b[31m 32 \u001b[31m 33 \u001b[31m 34 \u001b[31m 35 \u001b[31m 36 \u001b[31m 37 \u001b[31m 38 \u001b[31m 39 \u001b[31m 40 \u001b[31m 41 \u001b[31m 42 \u001b[31m 43 \u001b[31m 44 \u001b[31m 45 \u001b[31m 46 \u001b[m 47 \n",
      "\u001b[m O número 47 foi divisível 2 vezez\n",
      "O número 47 é primo\n"
     ]
    }
   ],
   "source": [
    "N = 47\n",
    "tot = 0\n",
    "for c in range(1, N+1):\n",
    "    if N % c == 0:\n",
    "        print('\\033[m', end=' ')\n",
    "        tot+=1\n",
    "    else:\n",
    "        print('\\033[31m', end=' ')\n",
    "    print('{}'.format(c), end=' ')\n",
    "print('\\n\\033[m O número {} foi divisível {} vezez'.format(N, tot))\n",
    "if tot == 2:\n",
    "    print(f'O número {N} é primo')\n",
    "else:\n",
    "    print(f'O número {N} não é primo')\n",
    "\n"
   ]
  },
  {
   "cell_type": "markdown",
   "metadata": {
    "id": "zHwDnURO83yK"
   },
   "source": [
    "### 05 - Desafio\n",
    "O algorítmo do exercício anterior não é o mais eficiente. O que você pode fazer para deixá-lo mais eficiente? Ou seja, executar menos comparações, portanto consumir menos tempo.\n",
    "1. Será que precisamos correr o loop até o final sempre?\n",
    "2. Será que precisamos mesmo verificar **todos** os números?\n",
    "3. Será que precisamos ir até N-1?\n",
    "\n",
    "Essas perguntas levam ao tipo de pensamento voltado a deixar um algoritmo mais eficiente. Veja se você consegue melhorar o seu."
   ]
  },
  {
   "cell_type": "code",
   "execution_count": 104,
   "metadata": {
    "id": "DDdwfZOL83yM"
   },
   "outputs": [
    {
     "name": "stdout",
     "output_type": "stream",
     "text": [
      "7 é um número primo.\n"
     ]
    }
   ],
   "source": [
    "N = 7\n",
    "\n",
    "def is_prime(N):\n",
    "    if N < 2:\n",
    "        return False\n",
    "    for i in range(2, int(N**0.5) + 1):\n",
    "        if N % i == 0:\n",
    "            return False\n",
    "    return True\n",
    "\n",
    "if is_prime(N):\n",
    "    print(f\"{N} é um número primo.\")\n",
    "else:\n",
    "    print(f\"{N} não é um número primo.\")\n",
    "\n",
    "\n"
   ]
  },
  {
   "cell_type": "markdown",
   "metadata": {},
   "source": [
    "\n",
    "Encontrar a raiz quadrada de um número é útil ao verificar se um número é primo de forma eficiente. No caso da verificação de números primos, podemos observar que se um número não é primo, ele pode ser fatorado em dois números que são menores ou iguais à sua raiz quadrada.\n",
    "Por exemplo, se N não é primo e pode ser fatorado em A e B, então pelo menos um dos fatores A ou B deve ser menor ou igual a N. Portanto, ao buscar por divisores até a raiz quadrada de N, podemos economizar tempo e recursos computacionais, já que não é necessário verificar divisores maiores que N.\n",
    "Essa é uma estratégia eficiente para verificar primos em comparação com a verificação de todos os números até N-1, especialmente para números grandes, pois reduz o número de iterações necessárias no processo de verificação.\n"
   ]
  },
  {
   "cell_type": "markdown",
   "metadata": {
    "id": "4zhVSQan83yN"
   },
   "source": [
    "### 06 - Peso ideal 1\n",
    "O IMC (índice de massa corpórea) é um indicador de saúde mais bem aceito que o peso. Ele é calculado como:\n",
    "\n",
    "$$ IMC = \\dfrac{peso}{altura^2}$$\n",
    "\n",
    "Segundo a OMS, valores *normais* são entre 18.5 e 24.9.\n",
    "\n",
    "Sua tarefa é encontrar o ponto médio dessa faixa."
   ]
  },
  {
   "cell_type": "code",
   "execution_count": 105,
   "metadata": {
    "id": "3DzxicN983yO",
    "outputId": "6a947e58-88b2-4764-a9ca-717b971adb3d"
   },
   "outputs": [
    {
     "data": {
      "text/plain": [
       "21.7"
      ]
     },
     "execution_count": 105,
     "metadata": {},
     "output_type": "execute_result"
    }
   ],
   "source": [
    "imc_ideal = (18.5+24.9)/2\n",
    "imc_ideal"
   ]
  },
  {
   "cell_type": "markdown",
   "metadata": {
    "id": "Z8uBOym483yP"
   },
   "source": [
    "### 07 - Peso ideal 2\n",
    "Recebendo um valor de altura, encontre o peso '*ideal*' dessa pessoa, que fornece o IMC encontrado acima"
   ]
  },
  {
   "cell_type": "code",
   "execution_count": 108,
   "metadata": {
    "id": "rrNwycte83yP",
    "outputId": "0e63b2ff-3743-48c7-a472-b48a450a0867"
   },
   "outputs": [
    {
     "data": {
      "text/plain": [
       "62.71"
      ]
     },
     "execution_count": 108,
     "metadata": {},
     "output_type": "execute_result"
    }
   ],
   "source": [
    "altura = 1.70\n",
    "imc_ideal = 21.7\n",
    "\n",
    "imc_ideal = 21.7\n",
    "peso_ideal = round(imc_ideal*altura**2,2)\n",
    "peso_ideal"
   ]
  },
  {
   "cell_type": "markdown",
   "metadata": {
    "id": "zEdM6J_i83yP"
   },
   "source": [
    "### 08 - Peso ideal 3\n",
    "Dada uma lista contendo as alturas de pacientes, crie uma nova lista que contenha o peso '*ideal*' (que fornece o IMC calculado em **Peso ideal 1**) desses pacientes."
   ]
  },
  {
   "cell_type": "code",
   "execution_count": 115,
   "metadata": {
    "id": "KN1mB_My83yQ",
    "outputId": "f070d54d-c156-4546-e3c7-b5bc500059d9"
   },
   "outputs": [
    {
     "data": {
      "text/plain": [
       "[82.51, 91.19, 62.71, 59.08]"
      ]
     },
     "execution_count": 115,
     "metadata": {},
     "output_type": "execute_result"
    }
   ],
   "source": [
    "lista_alturas = [1.95, 2.05, 1.70, 1.65]\n",
    "lista_peso_ideal = []\n",
    "\n",
    "imc_ideal = 21.7\n",
    "for altura in lista_alturas:\n",
    "    peso_ideal = (imc_ideal*altura**2)\n",
    "    lista_peso_ideal.append(round(peso_ideal, 2))\n",
    "    \n",
    "\n",
    "lista_peso_ideal"
   ]
  },
  {
   "cell_type": "markdown",
   "metadata": {
    "id": "8OKAtYQM83yQ"
   },
   "source": [
    "### 09 - Peso ideal 4\n",
    "Dada uma lista de tuplas - cada elemento da lista é uma tupla contendo altura e peso de um paciente - crie uma nova lista com o IMC desses pacientes."
   ]
  },
  {
   "cell_type": "code",
   "execution_count": 119,
   "metadata": {
    "id": "FaXgkjzI83yQ",
    "outputId": "8adc5e59-8a72-42db-db6b-6895587e875e"
   },
   "outputs": [
    {
     "data": {
      "text/plain": [
       "[27.78, 27.55, 19.19]"
      ]
     },
     "execution_count": 119,
     "metadata": {},
     "output_type": "execute_result"
    }
   ],
   "source": [
    "altura_peso = [(1.80, 90), (1.65, 75), (1.91, 70)]\n",
    "\n",
    "imc = []\n",
    "\n",
    "for paciente in altura_peso:\n",
    "    altura, peso = paciente\n",
    "    imc_calc = (peso/(altura**2))\n",
    "    imc.append(round(imc_calc,2))\n",
    "    \n",
    "imc"
   ]
  },
  {
   "cell_type": "markdown",
   "metadata": {
    "id": "kZdSJqJq83yR"
   },
   "source": [
    "### 10 - Peso ideal 5\n",
    "Dada uma lista de **listas** - cada elemento da lista é uma **lista** contendo altura e peso de um paciente, adicione mais um elemento à lista de cada paciente contendo o IMC do paciente. Verifique também se é 'baixo', 'normal' ou 'alto' segundo os padrões da OMS em que normal é entre 18.5 e 24.9.\n",
    "\n",
    "Reflexão: por que no problema anterior temos que criar uma nova lista, e não podemos adicionar os dados de cada indivíduo à tupla?"
   ]
  },
  {
   "cell_type": "code",
   "execution_count": 121,
   "metadata": {
    "id": "EwszojP283yR"
   },
   "outputs": [
    {
     "data": {
      "text/plain": [
       "[[1.8, 90, 27.78, 'IMC alto'],\n",
       " [1.65, 75, 27.55, 'IMC alto'],\n",
       " [1.91, 70, 19.19, 'IMC normal']]"
      ]
     },
     "execution_count": 121,
     "metadata": {},
     "output_type": "execute_result"
    }
   ],
   "source": [
    "altura_peso = [[1.80, 90], [1.65, 75], [1.91, 70]]\n",
    "\n",
    "for paciente in altura_peso:\n",
    "    altura, peso = paciente\n",
    "    imc = peso/altura**2\n",
    "    paciente.append(round(imc,2))\n",
    "    if 0 <= imc < 18.5:\n",
    "        classificacao_imc = 'IMC baixo'\n",
    "    elif  18.5 <= imc <= 24.9:\n",
    "        classificacao_imc = 'IMC normal'\n",
    "    else:\n",
    "        classificacao_imc = 'IMC alto'\n",
    "    paciente.append(classificacao_imc)\n",
    "altura_peso"
   ]
  }
 ],
 "metadata": {
  "colab": {
   "collapsed_sections": [],
   "provenance": []
  },
  "kernelspec": {
   "display_name": "Python 3 (ipykernel)",
   "language": "python",
   "name": "python3"
  },
  "language_info": {
   "codemirror_mode": {
    "name": "ipython",
    "version": 3
   },
   "file_extension": ".py",
   "mimetype": "text/x-python",
   "name": "python",
   "nbconvert_exporter": "python",
   "pygments_lexer": "ipython3",
   "version": "3.11.7"
  }
 },
 "nbformat": 4,
 "nbformat_minor": 4
}
